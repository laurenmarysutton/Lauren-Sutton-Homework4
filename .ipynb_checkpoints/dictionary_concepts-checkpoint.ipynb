{
 "cells": [
  {
   "cell_type": "code",
   "execution_count": 27,
   "metadata": {},
   "outputs": [],
   "source": [
    "concepts = {'Dictionary':'a collection of key-value pairs.', 'String':'a series of characters.','Boolean Expression':'an expression that evaluates to True or False.','Comment':'a note in a program that the Python interpreter ignores.','Value': 'an item associated with a key in a dictionary.','Loop':'work through a collection of items, one at a time.','List':'a collection of items in a particular order.','Key':'the first item in a key-value pair in a dictionary.','Float':'a numerical value with a decimal component.'}"
   ]
  },
  {
   "cell_type": "code",
   "execution_count": 28,
   "metadata": {},
   "outputs": [
    {
     "name": "stdout",
     "output_type": "stream",
     "text": [
      "Dictionary is a collection of key-value pairs.\n",
      "String is a series of characters.\n",
      "Boolean Expression is an expression that evaluates to True or False.\n",
      "Comment is a note in a program that the Python interpreter ignores.\n",
      "Value is an item associated with a key in a dictionary.\n",
      "Loop is work through a collection of items, one at a time.\n",
      "List is a collection of items in a particular order.\n",
      "Key is the first item in a key-value pair in a dictionary.\n",
      "Float is a numerical value with a decimal component.\n"
     ]
    }
   ],
   "source": [
    "for key, value in concepts.items():\n",
    "    print('{} is {}'.format(key, value))"
   ]
  },
  {
   "cell_type": "code",
   "execution_count": null,
   "metadata": {},
   "outputs": [],
   "source": []
  }
 ],
 "metadata": {
  "kernelspec": {
   "display_name": "Python 3",
   "language": "python",
   "name": "python3"
  },
  "language_info": {
   "codemirror_mode": {
    "name": "ipython",
    "version": 3
   },
   "file_extension": ".py",
   "mimetype": "text/x-python",
   "name": "python",
   "nbconvert_exporter": "python",
   "pygments_lexer": "ipython3",
   "version": "3.6.5"
  }
 },
 "nbformat": 4,
 "nbformat_minor": 2
}
